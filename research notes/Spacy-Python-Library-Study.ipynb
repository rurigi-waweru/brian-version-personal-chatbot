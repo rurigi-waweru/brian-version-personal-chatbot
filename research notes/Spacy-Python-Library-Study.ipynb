{
 "cells": [
  {
   "cell_type": "markdown",
   "id": "1b280ac0",
   "metadata": {},
   "source": [
    "# 1. Spacy\n",
    "\n",
    "Use it for: Fast, production-grade NLP tasks (e.g., tokenization, named entity recognition, POS tagging)\n",
    "\n",
    "`note:` Not as good for tasks requiring deep contextual understanding (e.g., summarization, question answering)"
   ]
  },
  {
   "cell_type": "code",
   "execution_count": null,
   "id": "868bbc41",
   "metadata": {},
   "outputs": [],
   "source": [
    "# ! pip install --upgrade numpy\n",
    "# ! pip install spacy\n",
    "\n",
    "import spacy\n",
    "print(spacy.__version__)"
   ]
  },
  {
   "cell_type": "code",
   "execution_count": null,
   "id": "d331de3f",
   "metadata": {},
   "outputs": [],
   "source": [
    "import spacy\n",
    "\n",
    "nlp = spacy.load(\"en_core_web_sm\")\n",
    "doc = nlp(\"Apple is looking at buying a startup in the UK.\")\n",
    "for ent in doc.ents:\n",
    "    print(ent.text, ent.label_)\n"
   ]
  },
  {
   "cell_type": "markdown",
   "id": "636dddc2",
   "metadata": {},
   "source": [
    "# 2. Transformers (Hugging Face)\n",
    "\n",
    "Use it for: Cutting-edge deep learning NLP (e.g., BERT, GPT, T5, LLaMA)"
   ]
  },
  {
   "cell_type": "code",
   "execution_count": null,
   "id": "2cb51c0b",
   "metadata": {},
   "outputs": [
    {
     "name": "stdout",
     "output_type": "stream",
     "text": [
      "4.46.3\n"
     ]
    }
   ],
   "source": [
    "# !pip install transformers\n",
    "# ! pip install --upgrade transformers\n",
    "\n",
    "import transformers\n",
    "print(transformers.__version__)"
   ]
  },
  {
   "cell_type": "code",
   "execution_count": null,
   "id": "853ef2c7",
   "metadata": {},
   "outputs": [],
   "source": [
    "from transformers import pipeline\n",
    "\n",
    "summarizer = pipeline(\"summarization\")\n",
    "print(summarizer(\"The quick brown fox jumps over the lazy dog. \"*10)[0]['summary_text'])"
   ]
  },
  {
   "cell_type": "markdown",
   "id": "f363560a",
   "metadata": {},
   "source": [
    "# 3. TextBlob\n",
    "Use it for: Quick and easy NLP with basic tasks (e.g., sentiment analysis, translation, POS tagging)"
   ]
  },
  {
   "cell_type": "code",
   "execution_count": null,
   "id": "c43628db",
   "metadata": {},
   "outputs": [],
   "source": [
    "from textblob import TextBlob\n",
    "\n",
    "blob = TextBlob(\"TextBlob is amazingly simple to use. What a great module!\")\n",
    "print(blob.sentiment)"
   ]
  },
  {
   "cell_type": "markdown",
   "id": "3592eda2",
   "metadata": {},
   "source": [
    "| Feature / Library    | spaCy                | Hugging Face Transformers | TextBlob               |\n",
    "| -------------------- | -------------------- | ------------------------- | ---------------------- |\n",
    "| Speed                | ✅ Fast               | ❌ Slower                  | ✅ Fast                 |\n",
    "| Deep Learning Models | ❌ Not native         | ✅ Yes                     | ❌ No                   |\n",
    "| Pretrained Pipelines | ✅ Yes                | ✅ Yes                     | ✅ Basic                |\n",
    "| Custom Training      | ✅ Limited            | ✅ Full                    | ❌ No                   |\n",
    "| Best For             | Production pipelines | Research, SOTA tasks      | Beginners, prototyping |\n"
   ]
  },
  {
   "cell_type": "markdown",
   "id": "5c6ec5ad",
   "metadata": {},
   "source": [
    "# Summary: Which one should I use?\n",
    "\n",
    "- Quick sentiment analysis or prototyping? → Use TextBlob.\n",
    "\n",
    "- Need a fast, reliable NLP engine for a web app or production? → Use spaCy.\n",
    "\n",
    "- Working on a cutting-edge NLP task like summarization, QA, or using LLMs? → Use Transformers (Hugging Face)."
   ]
  }
 ],
 "metadata": {
  "kernelspec": {
   "display_name": "learn-env",
   "language": "python",
   "name": "python3"
  },
  "language_info": {
   "codemirror_mode": {
    "name": "ipython",
    "version": 3
   },
   "file_extension": ".py",
   "mimetype": "text/x-python",
   "name": "python",
   "nbconvert_exporter": "python",
   "pygments_lexer": "ipython3",
   "version": "3.8.5"
  }
 },
 "nbformat": 4,
 "nbformat_minor": 5
}
