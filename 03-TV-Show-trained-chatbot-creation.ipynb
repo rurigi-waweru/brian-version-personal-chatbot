{
 "cells": [
  {
   "cell_type": "markdown",
   "id": "49be59b7",
   "metadata": {},
   "source": [
    "# **03-TV-Show-trained-chatbot-creation**"
   ]
  },
  {
   "cell_type": "markdown",
   "id": "410e9e69",
   "metadata": {},
   "source": [
    "#### **Q: How do you clean a text file for nlp analysis in order to create a converational chatbot?**\n",
    "\n",
    "Cleaning a text file for NLP analysis—especially for creating a conversational chatbot—involves several key steps. The goal is to prepare the data so that it's consistent, structured, and meaningful for a machine learning model. Here's a typical cleaning pipeline:\n",
    "\n",
    "# Here is a Step-by-Step Text Cleaning Process"
   ]
  },
  {
   "cell_type": "code",
   "execution_count": 43,
   "id": "292b3524",
   "metadata": {},
   "outputs": [],
   "source": [
    "import re, nltk\n",
    "\n",
    "from nltk.tokenize import sent_tokenize, word_tokenize\n",
    "from nltk.corpus import stopwords"
   ]
  },
  {
   "cell_type": "markdown",
   "id": "108fd29b",
   "metadata": {},
   "source": [
    "# 1. Read the File"
   ]
  },
  {
   "cell_type": "code",
   "execution_count": 44,
   "id": "b0194aa8",
   "metadata": {},
   "outputs": [],
   "source": [
    "file_path = r\"data\\suits-1x01-pilot.en.txt\"\n",
    "\n",
    "with open(file_path, \"r\", encoding=\"utf-8\") as file:\n",
    "    text = file.read()"
   ]
  },
  {
   "cell_type": "markdown",
   "id": "9e841e44",
   "metadata": {},
   "source": [
    "# 2. Remove Unwanted Characters\n",
    "Remove special characters, numbers, or any non-conversational content (like timestamps, HTML, etc.)."
   ]
  },
  {
   "cell_type": "code",
   "execution_count": 45,
   "id": "6742df4f",
   "metadata": {},
   "outputs": [],
   "source": [
    "# Remove things like HTML tags, special characters, numbers\n",
    "text = re.sub(r\"<.*?>\", \"\", text)               # Remove HTML tags\n",
    "text = re.sub(r\"\\[.*?\\]\", \"\", text)             # Remove brackets and their content\n",
    "text = re.sub(r\"[^a-zA-Z0-9\\s.,!?]\", \"\", text)  # Remove special characters except punctuation"
   ]
  },
  {
   "cell_type": "markdown",
   "id": "f9183573",
   "metadata": {},
   "source": [
    "# 3. Lowercasing\n",
    "Helps reduce vocabulary size."
   ]
  },
  {
   "cell_type": "code",
   "execution_count": 46,
   "id": "2e951da1",
   "metadata": {},
   "outputs": [],
   "source": [
    "text = text.lower()"
   ]
  },
  {
   "cell_type": "markdown",
   "id": "6c90d25b",
   "metadata": {},
   "source": [
    "# 4. Tokenization\n",
    "Split the text into sentences or words."
   ]
  },
  {
   "cell_type": "code",
   "execution_count": 47,
   "id": "36dc1b9e",
   "metadata": {},
   "outputs": [],
   "source": [
    "sentences = sent_tokenize(text)  # Useful for chatbot training"
   ]
  },
  {
   "cell_type": "markdown",
   "id": "bf1ac0cc",
   "metadata": {},
   "source": [
    "# 5. Remove Stopwords (optional)\n",
    "Stopwords like “is”, “the”, etc., are often removed in NLP tasks, but for chatbots, they may be needed for natural-sounding replies."
   ]
  },
  {
   "cell_type": "code",
   "execution_count": 48,
   "id": "2d84fc6d",
   "metadata": {},
   "outputs": [],
   "source": [
    "stop_words = set(stopwords.words(\"english\"))\n",
    "filtered_sentences = []\n",
    "\n",
    "for sentence in sentences:\n",
    "    words = word_tokenize(sentence)\n",
    "    filtered = [w for w in words if w not in stop_words]\n",
    "    filtered_sentences.append(\" \".join(filtered))"
   ]
  },
  {
   "cell_type": "markdown",
   "id": "95683fef",
   "metadata": {},
   "source": [
    "# 6. Lemmatization/Stemming (Optional)\n",
    "Use lemmatization to reduce words to their base form."
   ]
  },
  {
   "cell_type": "code",
   "execution_count": 49,
   "id": "e5d4f1cc",
   "metadata": {},
   "outputs": [
    {
     "name": "stderr",
     "output_type": "stream",
     "text": [
      "[nltk_data] Downloading package wordnet to\n",
      "[nltk_data]     C:\\Users\\rurig\\AppData\\Roaming\\nltk_data...\n",
      "[nltk_data]   Package wordnet is already up-to-date!\n"
     ]
    },
    {
     "data": {
      "text/plain": [
       "True"
      ]
     },
     "execution_count": 49,
     "metadata": {},
     "output_type": "execute_result"
    }
   ],
   "source": [
    "nltk.download('wordnet')"
   ]
  },
  {
   "cell_type": "code",
   "execution_count": 50,
   "id": "76c96ba6",
   "metadata": {},
   "outputs": [
    {
     "name": "stderr",
     "output_type": "stream",
     "text": [
      "[nltk_data] Downloading package wordnet to\n",
      "[nltk_data]     C:\\Users\\rurig\\AppData\\Roaming\\nltk_data...\n",
      "[nltk_data]   Package wordnet is already up-to-date!\n",
      "[nltk_data] Downloading package punkt to\n",
      "[nltk_data]     C:\\Users\\rurig\\AppData\\Roaming\\nltk_data...\n",
      "[nltk_data]   Package punkt is already up-to-date!\n"
     ]
    }
   ],
   "source": [
    "from nltk.stem import WordNetLemmatizer\n",
    "from nltk.tokenize import word_tokenize\n",
    "from nltk.corpus import wordnet\n",
    "\n",
    "# Download required resources\n",
    "nltk.download('wordnet')\n",
    "nltk.download('punkt')\n",
    "\n",
    "lemmatizer = WordNetLemmatizer()\n",
    "lemmatized_sentences = []\n",
    "\n",
    "for sentence in filtered_sentences:\n",
    "    words = word_tokenize(sentence)\n",
    "    lemmatized = [lemmatizer.lemmatize(w) for w in words]\n",
    "    lemmatized_sentences.append(\" \".join(lemmatized))\n"
   ]
  },
  {
   "cell_type": "markdown",
   "id": "76ae518c",
   "metadata": {},
   "source": [
    "# 7. Remove Duplicate or Blank Lines"
   ]
  },
  {
   "cell_type": "code",
   "execution_count": 51,
   "id": "4afd9da9",
   "metadata": {},
   "outputs": [],
   "source": [
    "cleaned_sentences = list(set([s.strip() for s in lemmatized_sentences if s.strip()]))"
   ]
  },
  {
   "cell_type": "markdown",
   "id": "bb6b2937",
   "metadata": {},
   "source": [
    "# 8. Pair Dialogues (for Chatbot Training)\n",
    "If your text is conversational (e.g., lines of dialogue), structure it as input-output pairs."
   ]
  },
  {
   "cell_type": "code",
   "execution_count": 52,
   "id": "2811a2dc",
   "metadata": {},
   "outputs": [],
   "source": [
    "pairs = []\n",
    "for i in range(len(cleaned_sentences) - 1):\n",
    "    input_text = cleaned_sentences[i]\n",
    "    response = cleaned_sentences[i+1]\n",
    "    pairs.append((input_text, response))\n"
   ]
  },
  {
   "cell_type": "markdown",
   "id": "cca654d5",
   "metadata": {},
   "source": [
    "# Bonus: Save Cleaned Data"
   ]
  },
  {
   "cell_type": "code",
   "execution_count": 53,
   "id": "6348041b",
   "metadata": {},
   "outputs": [],
   "source": [
    "import csv\n",
    "with open(\"01-TV-Show-chatbot_data.csv\", \"w\", newline=\"\", encoding=\"utf-8\") as f:\n",
    "    writer = csv.writer(f)\n",
    "    writer.writerow([\"Input\", \"Response\"])\n",
    "    writer.writerows(pairs)\n"
   ]
  },
  {
   "cell_type": "markdown",
   "id": "f5d6aa95",
   "metadata": {},
   "source": [
    "# `Note:` \n",
    "\n",
    "What does these terms mean?\n",
    "\n",
    "- **Tokenize** - Split into sentences or words\n",
    "- **Lemmatize/stem** - Normalize word form"
   ]
  }
 ],
 "metadata": {
  "kernelspec": {
   "display_name": "learn-env",
   "language": "python",
   "name": "python3"
  },
  "language_info": {
   "codemirror_mode": {
    "name": "ipython",
    "version": 3
   },
   "file_extension": ".py",
   "mimetype": "text/x-python",
   "name": "python",
   "nbconvert_exporter": "python",
   "pygments_lexer": "ipython3",
   "version": "3.8.5"
  }
 },
 "nbformat": 4,
 "nbformat_minor": 5
}
